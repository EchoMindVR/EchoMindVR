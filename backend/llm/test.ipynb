{
 "cells": [
  {
   "cell_type": "code",
   "execution_count": 1,
   "metadata": {},
   "outputs": [],
   "source": [
    "from gemini import gemini_chat"
   ]
  },
  {
   "cell_type": "code",
   "execution_count": 2,
   "metadata": {},
   "outputs": [
    {
     "name": "stdout",
     "output_type": "stream",
     "text": [
      "\n",
      "\n",
      "\u001b[1m> Entering new AgentExecutor chain...\u001b[0m\n",
      "\u001b[32;1m\u001b[1;3mCould not parse LLM output: Action:\n",
      "```\n",
      "{\n",
      "  \"action\": \"vision_generate\",\n",
      "  \"action_input\": {\n",
      "    \"query\": \"Describe the image at the following path\",\n",
      "    \"file_path\": \"https://picsum.photos/seed/picsum/300/300\"\n",
      "  }\n",
      "}\n",
      "```\n",
      "}\n",
      "```\u001b[0mInvalid or incomplete response\u001b[32;1m\u001b[1;3mAction:\n",
      "```\n",
      "{\n",
      "  \"action\": \"vision_generate\",\n",
      "  \"action_input\": {\n",
      "    \"query\": \"Describe the image at the following path\",\n",
      "    \"file_path\": \"https://picsum.photos/seed/picsum/300/300\"\n",
      "  }\n",
      "}\n",
      "```0\"\n",
      "  }\n",
      "}\n",
      "```\u001b[0m\u001b[38;5;200m\u001b[1;3mcontent=' The image shows a snow-capped mountain peak extending into a pink sky.' response_metadata={'is_blocked': False, 'safety_ratings': [{'category': 'HARM_CATEGORY_HATE_SPEECH', 'probability_label': 'NEGLIGIBLE', 'blocked': False}, {'category': 'HARM_CATEGORY_DANGEROUS_CONTENT', 'probability_label': 'NEGLIGIBLE', 'blocked': False}, {'category': 'HARM_CATEGORY_HARASSMENT', 'probability_label': 'NEGLIGIBLE', 'blocked': False}, {'category': 'HARM_CATEGORY_SEXUALLY_EXPLICIT', 'probability_label': 'NEGLIGIBLE', 'blocked': False}], 'citation_metadata': None, 'usage_metadata': {'prompt_token_count': 265, 'candidates_token_count': 15, 'total_token_count': 280}}\u001b[0m\u001b[32;1m\u001b[1;3mAction:\n",
      "```\n",
      "{\n",
      "  \"action\": \"Final Answer\",\n",
      "  \"action_input\": \"The image you provided shows a snow-capped mountain peak extending into a pink sky.\"\n",
      "}\n",
      "``````\u001b[0m\n",
      "\n",
      "\u001b[1m> Finished chain.\u001b[0m\n"
     ]
    },
    {
     "data": {
      "text/plain": [
       "{'input': {'Your approach as an analyst involves using data, evidence, and case studies to foster analytical thinking. Present information in a structured way that encourages students to draw conclusions based on evidence.\\nI have an image to share with you at the following path: https://picsum.photos/seed/picsum/300/300\\nWhat is in this the image I gave?'},\n",
       " 'output': 'The image you provided shows a snow-capped mountain peak extending into a pink sky.',\n",
       " 'intermediate_steps': [(AgentAction(tool='_Exception', tool_input='Invalid or incomplete response', log='Could not parse LLM output: Action:\\n```\\n{\\n  \"action\": \"vision_generate\",\\n  \"action_input\": {\\n    \"query\": \"Describe the image at the following path\",\\n    \"file_path\": \"https://picsum.photos/seed/picsum/300/300\"\\n  }\\n}\\n```\\n}\\n```'),\n",
       "   'Invalid or incomplete response'),\n",
       "  (AgentAction(tool='vision_generate', tool_input={'query': 'Describe the image at the following path', 'file_path': 'https://picsum.photos/seed/picsum/300/300'}, log='Action:\\n```\\n{\\n  \"action\": \"vision_generate\",\\n  \"action_input\": {\\n    \"query\": \"Describe the image at the following path\",\\n    \"file_path\": \"https://picsum.photos/seed/picsum/300/300\"\\n  }\\n}\\n```0\"\\n  }\\n}\\n```'),\n",
       "   AIMessage(content=' The image shows a snow-capped mountain peak extending into a pink sky.', response_metadata={'is_blocked': False, 'safety_ratings': [{'category': 'HARM_CATEGORY_HATE_SPEECH', 'probability_label': 'NEGLIGIBLE', 'blocked': False}, {'category': 'HARM_CATEGORY_DANGEROUS_CONTENT', 'probability_label': 'NEGLIGIBLE', 'blocked': False}, {'category': 'HARM_CATEGORY_HARASSMENT', 'probability_label': 'NEGLIGIBLE', 'blocked': False}, {'category': 'HARM_CATEGORY_SEXUALLY_EXPLICIT', 'probability_label': 'NEGLIGIBLE', 'blocked': False}], 'citation_metadata': None, 'usage_metadata': {'prompt_token_count': 265, 'candidates_token_count': 15, 'total_token_count': 280}}))]}"
      ]
     },
     "execution_count": 2,
     "metadata": {},
     "output_type": "execute_result"
    }
   ],
   "source": [
    "gemini_chat(\"What is in this the image I gave?\", \"analyst\", \"https://picsum.photos/seed/picsum/300/300\")"
   ]
  }
 ],
 "metadata": {
  "kernelspec": {
   "display_name": "genai",
   "language": "python",
   "name": "python3"
  },
  "language_info": {
   "codemirror_mode": {
    "name": "ipython",
    "version": 3
   },
   "file_extension": ".py",
   "mimetype": "text/x-python",
   "name": "python",
   "nbconvert_exporter": "python",
   "pygments_lexer": "ipython3",
   "version": "3.11.8"
  }
 },
 "nbformat": 4,
 "nbformat_minor": 2
}
