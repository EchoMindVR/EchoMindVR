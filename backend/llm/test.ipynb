{
 "cells": [
  {
   "cell_type": "code",
   "execution_count": 1,
   "metadata": {},
   "outputs": [],
   "source": [
    "from gemma import gemma_chat"
   ]
  },
  {
   "cell_type": "code",
   "execution_count": 2,
   "metadata": {},
   "outputs": [
    {
     "name": "stderr",
     "output_type": "stream",
     "text": [
      "/opt/homebrew/Caskroom/miniforge/base/envs/genai/lib/python3.12/site-packages/tqdm/auto.py:21: TqdmWarning: IProgress not found. Please update jupyter and ipywidgets. See https://ipywidgets.readthedocs.io/en/stable/user_install.html\n",
      "  from .autonotebook import tqdm as notebook_tqdm\n"
     ]
    },
    {
     "name": "stdout",
     "output_type": "stream",
     "text": [
      "Sure, here is the answer to the question:\n",
      "\n",
      "The text indicates that the teaching staff instructing EE104 are Sanjay Lall and Stephen Boyd."
     ]
    }
   ],
   "source": [
    "response = gemma_chat(\"Who are the teaching staff instructing EE104?\")"
   ]
  },
  {
   "cell_type": "code",
   "execution_count": 6,
   "metadata": {},
   "outputs": [
    {
     "data": {
      "text/plain": [
       "({'input': 'Who are the teaching staff instructing EE104?',\n",
       "  'chat_history': [HumanMessage(content='Who are the teaching staff instructing EE104?'),\n",
       "   'Sure, here is the answer to the question:\\n\\nThe text indicates that the teaching staff instructing EE104 are Sanjay Lall and Stephen Boyd.'],\n",
       "  'context': [Document(page_content='EE104 S. Lall and S. Boyd\\nCourse Information\\nSanjay Lall and Stephen Boyd\\nEE104\\nStanford University\\n1', metadata={'page': 0, 'source': 'documents/course.pdf'}),\n",
       "   Document(page_content='EE104 S. Lall and S. Boyd\\nFeatures\\nSanjay Lall and Stephen Boyd\\nEE104\\nStanford University\\n1', metadata={'page': 0, 'source': 'documents/features.pdf'}),\n",
       "   Document(page_content='EE104 S. Lall and S. Boyd\\nFeatures\\nSanjay Lall and Stephen Boyd\\nEE104\\nStanford University\\n1', metadata={'page': 0, 'source': 'documents/features.pdf'}),\n",
       "   Document(page_content='EE104 S. Lall and S. Boyd\\nOverview and Examples\\nSanjay Lall and Stephen Boyd\\nEE104\\nStanford University\\n1', metadata={'page': 0, 'source': 'documents/overview.pdf'})],\n",
       "  'answer': 'Sure, here is the answer to the question:\\n\\nThe text indicates that the teaching staff instructing EE104 are Sanjay Lall and Stephen Boyd.'},\n",
       " [HumanMessage(content='Who are the teaching staff instructing EE104?'),\n",
       "  'Sure, here is the answer to the question:\\n\\nThe text indicates that the teaching staff instructing EE104 are Sanjay Lall and Stephen Boyd.'])"
      ]
     },
     "execution_count": 6,
     "metadata": {},
     "output_type": "execute_result"
    }
   ],
   "source": [
    "response"
   ]
  }
 ],
 "metadata": {
  "kernelspec": {
   "display_name": "genai",
   "language": "python",
   "name": "python3"
  },
  "language_info": {
   "codemirror_mode": {
    "name": "ipython",
    "version": 3
   },
   "file_extension": ".py",
   "mimetype": "text/x-python",
   "name": "python",
   "nbconvert_exporter": "python",
   "pygments_lexer": "ipython3",
   "version": "3.12.2"
  }
 },
 "nbformat": 4,
 "nbformat_minor": 2
}
